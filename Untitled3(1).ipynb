{
 "cells": [
  {
   "cell_type": "code",
   "execution_count": 235,
   "id": "da525d5a-ad18-42b9-b3eb-dc6ea8ab208e",
   "metadata": {},
   "outputs": [],
   "source": [
    "import pandas as pd"
   ]
  },
  {
   "cell_type": "code",
   "execution_count": 236,
   "id": "f511123d-9516-4668-bde1-8723fa1b2b05",
   "metadata": {},
   "outputs": [],
   "source": [
    "# read as CSV"
   ]
  },
  {
   "cell_type": "code",
   "execution_count": 237,
   "id": "1722ca9d-faba-44a0-93c9-ac5d85c22dd7",
   "metadata": {},
   "outputs": [],
   "source": [
    "df = pd.read_csv(r'C:\\Users\\WIN\\Downloads\\Food_Attractions.csv')"
   ]
  },
  {
   "cell_type": "code",
   "execution_count": 238,
   "id": "e77c1e3a-c6b8-4a77-a80a-42e1f64d924b",
   "metadata": {},
   "outputs": [
    {
     "data": {
      "text/html": [
       "<div>\n",
       "<style scoped>\n",
       "    .dataframe tbody tr th:only-of-type {\n",
       "        vertical-align: middle;\n",
       "    }\n",
       "\n",
       "    .dataframe tbody tr th {\n",
       "        vertical-align: top;\n",
       "    }\n",
       "\n",
       "    .dataframe thead th {\n",
       "        text-align: right;\n",
       "    }\n",
       "</style>\n",
       "<table border=\"1\" class=\"dataframe\">\n",
       "  <thead>\n",
       "    <tr style=\"text-align: right;\">\n",
       "      <th></th>\n",
       "      <th>Id</th>\n",
       "      <th>City and Country</th>\n",
       "      <th>Temperature</th>\n",
       "      <th>Date</th>\n",
       "      <th>Outlook</th>\n",
       "      <th>Attraction</th>\n",
       "      <th>Food</th>\n",
       "    </tr>\n",
       "  </thead>\n",
       "  <tbody>\n",
       "    <tr>\n",
       "      <th>0</th>\n",
       "      <td>1.0</td>\n",
       "      <td>New York City, United States</td>\n",
       "      <td>71F to 59F</td>\n",
       "      <td>10/3/2024</td>\n",
       "      <td>Cloudy</td>\n",
       "      <td>Statue of Liberty</td>\n",
       "      <td>Bagel</td>\n",
       "    </tr>\n",
       "    <tr>\n",
       "      <th>1</th>\n",
       "      <td>2.0</td>\n",
       "      <td>Sydney, Australia</td>\n",
       "      <td>22C to 18C</td>\n",
       "      <td>10/3/2023</td>\n",
       "      <td>Rainy</td>\n",
       "      <td>Sydney Opera House</td>\n",
       "      <td>Oyster</td>\n",
       "    </tr>\n",
       "    <tr>\n",
       "      <th>2</th>\n",
       "      <td>3.0</td>\n",
       "      <td>Chicago, United States</td>\n",
       "      <td>75F to 68F</td>\n",
       "      <td>10/5/2024</td>\n",
       "      <td>Sunny</td>\n",
       "      <td>Millennium Park</td>\n",
       "      <td>Deep Dish</td>\n",
       "    </tr>\n",
       "    <tr>\n",
       "      <th>3</th>\n",
       "      <td>4.0</td>\n",
       "      <td>New York City, United States</td>\n",
       "      <td>75F to 54F</td>\n",
       "      <td>10/5/2024</td>\n",
       "      <td>Sunny</td>\n",
       "      <td>Brooklyn Bridge</td>\n",
       "      <td>Pizza</td>\n",
       "    </tr>\n",
       "    <tr>\n",
       "      <th>4</th>\n",
       "      <td>5.0</td>\n",
       "      <td>São Paulo, Brazil</td>\n",
       "      <td>17C to 14C</td>\n",
       "      <td>10/4/2024</td>\n",
       "      <td>Rainy</td>\n",
       "      <td>Ibirapuera Park</td>\n",
       "      <td>Feijoada</td>\n",
       "    </tr>\n",
       "    <tr>\n",
       "      <th>5</th>\n",
       "      <td>6.0</td>\n",
       "      <td>Shanghai,</td>\n",
       "      <td>21C to 18C</td>\n",
       "      <td>8/7/2024</td>\n",
       "      <td>Rainy</td>\n",
       "      <td>Oriental Pearl TV Tower</td>\n",
       "      <td>Steamed Soup Dumplings</td>\n",
       "    </tr>\n",
       "    <tr>\n",
       "      <th>6</th>\n",
       "      <td>NaN</td>\n",
       "      <td>NaN</td>\n",
       "      <td>NaN</td>\n",
       "      <td>NaN</td>\n",
       "      <td>NaN</td>\n",
       "      <td>NaN</td>\n",
       "      <td>NaN</td>\n",
       "    </tr>\n",
       "    <tr>\n",
       "      <th>7</th>\n",
       "      <td>NaN</td>\n",
       "      <td>China</td>\n",
       "      <td>NaN</td>\n",
       "      <td>NaN</td>\n",
       "      <td>NaN</td>\n",
       "      <td>NaN</td>\n",
       "      <td>NaN</td>\n",
       "    </tr>\n",
       "  </tbody>\n",
       "</table>\n",
       "</div>"
      ],
      "text/plain": [
       "    Id              City and Country Temperature       Date Outlook  \\\n",
       "0  1.0  New York City, United States  71F to 59F  10/3/2024  Cloudy   \n",
       "1  2.0             Sydney, Australia  22C to 18C  10/3/2023   Rainy   \n",
       "2  3.0        Chicago, United States  75F to 68F  10/5/2024   Sunny   \n",
       "3  4.0  New York City, United States  75F to 54F  10/5/2024   Sunny   \n",
       "4  5.0             São Paulo, Brazil  17C to 14C  10/4/2024   Rainy   \n",
       "5  6.0                     Shanghai,  21C to 18C   8/7/2024   Rainy   \n",
       "6  NaN                           NaN         NaN        NaN     NaN   \n",
       "7  NaN                         China         NaN        NaN     NaN   \n",
       "\n",
       "                Attraction                    Food  \n",
       "0        Statue of Liberty                   Bagel  \n",
       "1       Sydney Opera House                  Oyster  \n",
       "2          Millennium Park               Deep Dish  \n",
       "3          Brooklyn Bridge                   Pizza  \n",
       "4          Ibirapuera Park                Feijoada  \n",
       "5  Oriental Pearl TV Tower  Steamed Soup Dumplings  \n",
       "6                      NaN                     NaN  \n",
       "7                      NaN                     NaN  "
      ]
     },
     "execution_count": 238,
     "metadata": {},
     "output_type": "execute_result"
    }
   ],
   "source": [
    "df"
   ]
  },
  {
   "cell_type": "code",
   "execution_count": 239,
   "id": "dba7141c-2f84-4114-b75b-53ca58a4fb55",
   "metadata": {},
   "outputs": [],
   "source": [
    "df.dropna(inplace=True)"
   ]
  },
  {
   "cell_type": "code",
   "execution_count": 240,
   "id": "ffcf1a40-ec83-47c4-99d2-b6545d5323db",
   "metadata": {},
   "outputs": [],
   "source": [
    "#Remove nan values"
   ]
  },
  {
   "cell_type": "code",
   "execution_count": 241,
   "id": "250d4952-d364-4e5d-8712-c51c56318f0f",
   "metadata": {},
   "outputs": [],
   "source": [
    "df.drop(df.columns[[0, 1]], axis=1, inplace=True)"
   ]
  },
  {
   "cell_type": "code",
   "execution_count": 242,
   "id": "e1f2c90b-bcc9-4b34-9dac-7e22f54ff011",
   "metadata": {},
   "outputs": [],
   "source": [
    "#remove id column"
   ]
  },
  {
   "cell_type": "code",
   "execution_count": 252,
   "id": "1403be0b-6caa-4a4e-96f0-7d3b68448a0c",
   "metadata": {},
   "outputs": [
    {
     "name": "stdout",
     "output_type": "stream",
     "text": [
      "  Temperature       Date Outlook               Attraction  \\\n",
      "0  71F to 59F  10/3/2024  Cloudy        Statue of Liberty   \n",
      "1  22C to 18C  10/3/2023   Rainy       Sydney Opera House   \n",
      "2  75F to 68F  10/5/2024   Sunny          Millennium Park   \n",
      "3  75F to 54F  10/5/2024   Sunny          Brooklyn Bridge   \n",
      "4  17C to 14C  10/4/2024   Rainy          Ibirapuera Park   \n",
      "5  21C to 18C   8/7/2024   Rainy  Oriental Pearl TV Tower   \n",
      "\n",
      "                     Food  \n",
      "0                   Bagel  \n",
      "1                  Oyster  \n",
      "2               Deep Dish  \n",
      "3                   Pizza  \n",
      "4                Feijoada  \n",
      "5  Steamed Soup Dumplings  \n"
     ]
    }
   ],
   "source": [
    "print(df)"
   ]
  },
  {
   "cell_type": "code",
   "execution_count": null,
   "id": "171cd6c6-29d7-4162-a1bf-757ff079cbe5",
   "metadata": {},
   "outputs": [],
   "source": []
  }
 ],
 "metadata": {
  "kernelspec": {
   "display_name": "Python 3 (ipykernel)",
   "language": "python",
   "name": "python3"
  },
  "language_info": {
   "codemirror_mode": {
    "name": "ipython",
    "version": 3
   },
   "file_extension": ".py",
   "mimetype": "text/x-python",
   "name": "python",
   "nbconvert_exporter": "python",
   "pygments_lexer": "ipython3",
   "version": "3.12.4"
  }
 },
 "nbformat": 4,
 "nbformat_minor": 5
}
