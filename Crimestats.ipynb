{
 "cells": [
  {
   "cell_type": "code",
   "execution_count": 13,
   "id": "736d38db-908f-414b-8cd2-99ff57f32121",
   "metadata": {},
   "outputs": [],
   "source": [
    "import pandas as pd"
   ]
  },
  {
   "cell_type": "code",
   "execution_count": 15,
   "id": "fd33909e-42c4-4797-9102-5c83dafdd656",
   "metadata": {},
   "outputs": [
    {
     "name": "stdout",
     "output_type": "stream",
     "text": [
      "The columns of the original dataframe ['DR_NO', 'Date Rptd', 'DATE OCC', 'TIME OCC', 'AREA', 'AREA NAME', 'Rpt Dist No', 'Part 1-2', 'Crm Cd', 'Crm Cd Desc', 'Mocodes', 'Vict Age', 'Vict Sex', 'Vict Descent', 'Premis Cd', 'Premis Desc', 'Weapon Used Cd', 'Weapon Desc', 'Status', 'Status Desc', 'Crm Cd 1', 'Crm Cd 2', 'Crm Cd 3', 'Crm Cd 4', 'LOCATION', 'Cross Street', 'LAT', 'LON']\n"
     ]
    }
   ],
   "source": [
    "Crime_Data_df = pd.read_csv(r\"C:\\Users\\WIN\\Downloads\\Crime_Data.csv\")\n",
    "\n",
    "# the columns of the dataframe\n",
    "# DATE OCC', 'TIME OCC', 'AREA', 'Crm Cd Desc',\n",
    "print(\"The columns of the original dataframe\", Crime_Data_df.columns.tolist())"
   ]
  },
  {
   "cell_type": "code",
   "execution_count": 21,
   "id": "53d1720b-9043-4e3f-96ac-1e64c0e6fdab",
   "metadata": {},
   "outputs": [],
   "source": [
    "## lets cut the columns to 4 for readability"
   ]
  },
  {
   "cell_type": "code",
   "execution_count": 42,
   "id": "71cbc913-47fb-4316-a0da-438a50ffc2b4",
   "metadata": {},
   "outputs": [],
   "source": [
    "Crime_df = Crime_Data_df[[ 'DATE OCC', 'TIME OCC', 'AREA', 'Crm Cd Desc']]"
   ]
  },
  {
   "cell_type": "code",
   "execution_count": 44,
   "id": "7a72510a-9e08-49fc-8b56-441e1218a70a",
   "metadata": {},
   "outputs": [
    {
     "name": "stdout",
     "output_type": "stream",
     "text": [
      "['DATE OCC', 'TIME OCC', 'AREA', 'Crm Cd Desc']\n"
     ]
    }
   ],
   "source": [
    "columns_list = Crime_df.columns.tolist()\n",
    "print(columns_list)"
   ]
  },
  {
   "cell_type": "code",
   "execution_count": null,
   "id": "596e8e67-abd1-498e-89c9-d9427f5671a3",
   "metadata": {},
   "outputs": [],
   "source": [
    "## Forget that you have to put the .Head command"
   ]
  },
  {
   "cell_type": "code",
   "execution_count": 46,
   "id": "c4c6b571-ace8-484d-ab60-0509899e8d73",
   "metadata": {},
   "outputs": [
    {
     "name": "stdout",
     "output_type": "stream",
     "text": [
      "| Columns     |\n",
      "|:------------|\n",
      "| DATE OCC    |\n",
      "| TIME OCC    |\n",
      "| AREA        |\n",
      "| Crm Cd Desc |\n"
     ]
    }
   ],
   "source": [
    "import pandas as pd\n",
    "\n",
    "column_df = pd.DataFrame({'Columns': Crime_df.columns})\n",
    "\n",
    "# Print the DataFrame as a table\n",
    "print(column_df.to_markdown(index=False, numalign='left', stralign='left'))"
   ]
  },
  {
   "cell_type": "code",
   "execution_count": 48,
   "id": "bbea095a-15fa-4bc2-8fc7-9110c224ebb3",
   "metadata": {},
   "outputs": [
    {
     "data": {
      "text/html": [
       "<div>\n",
       "<style scoped>\n",
       "    .dataframe tbody tr th:only-of-type {\n",
       "        vertical-align: middle;\n",
       "    }\n",
       "\n",
       "    .dataframe tbody tr th {\n",
       "        vertical-align: top;\n",
       "    }\n",
       "\n",
       "    .dataframe thead th {\n",
       "        text-align: right;\n",
       "    }\n",
       "</style>\n",
       "<table border=\"1\" class=\"dataframe\">\n",
       "  <thead>\n",
       "    <tr style=\"text-align: right;\">\n",
       "      <th></th>\n",
       "      <th>DATE OCC</th>\n",
       "      <th>TIME OCC</th>\n",
       "      <th>AREA</th>\n",
       "      <th>Crm Cd Desc</th>\n",
       "    </tr>\n",
       "  </thead>\n",
       "  <tbody>\n",
       "    <tr>\n",
       "      <th>0</th>\n",
       "      <td>03/01/2020 12:00:00 AM</td>\n",
       "      <td>2130</td>\n",
       "      <td>7</td>\n",
       "      <td>VEHICLE - STOLEN</td>\n",
       "    </tr>\n",
       "    <tr>\n",
       "      <th>1</th>\n",
       "      <td>02/08/2020 12:00:00 AM</td>\n",
       "      <td>1800</td>\n",
       "      <td>1</td>\n",
       "      <td>BURGLARY FROM VEHICLE</td>\n",
       "    </tr>\n",
       "    <tr>\n",
       "      <th>2</th>\n",
       "      <td>11/04/2020 12:00:00 AM</td>\n",
       "      <td>1700</td>\n",
       "      <td>3</td>\n",
       "      <td>BIKE - STOLEN</td>\n",
       "    </tr>\n",
       "    <tr>\n",
       "      <th>3</th>\n",
       "      <td>03/10/2020 12:00:00 AM</td>\n",
       "      <td>2037</td>\n",
       "      <td>9</td>\n",
       "      <td>SHOPLIFTING-GRAND THEFT ($950.01 &amp; OVER)</td>\n",
       "    </tr>\n",
       "    <tr>\n",
       "      <th>4</th>\n",
       "      <td>08/17/2020 12:00:00 AM</td>\n",
       "      <td>1200</td>\n",
       "      <td>6</td>\n",
       "      <td>THEFT OF IDENTITY</td>\n",
       "    </tr>\n",
       "  </tbody>\n",
       "</table>\n",
       "</div>"
      ],
      "text/plain": [
       "                 DATE OCC  TIME OCC  AREA  \\\n",
       "0  03/01/2020 12:00:00 AM      2130     7   \n",
       "1  02/08/2020 12:00:00 AM      1800     1   \n",
       "2  11/04/2020 12:00:00 AM      1700     3   \n",
       "3  03/10/2020 12:00:00 AM      2037     9   \n",
       "4  08/17/2020 12:00:00 AM      1200     6   \n",
       "\n",
       "                                Crm Cd Desc  \n",
       "0                          VEHICLE - STOLEN  \n",
       "1                     BURGLARY FROM VEHICLE  \n",
       "2                             BIKE - STOLEN  \n",
       "3  SHOPLIFTING-GRAND THEFT ($950.01 & OVER)  \n",
       "4                         THEFT OF IDENTITY  "
      ]
     },
     "execution_count": 48,
     "metadata": {},
     "output_type": "execute_result"
    }
   ],
   "source": [
    "Crime_df.head()"
   ]
  },
  {
   "cell_type": "code",
   "execution_count": 82,
   "id": "135f6661-aaf2-47a4-9b9a-84cd704fff0c",
   "metadata": {},
   "outputs": [
    {
     "data": {
      "text/html": [
       "<div>\n",
       "<style scoped>\n",
       "    .dataframe tbody tr th:only-of-type {\n",
       "        vertical-align: middle;\n",
       "    }\n",
       "\n",
       "    .dataframe tbody tr th {\n",
       "        vertical-align: top;\n",
       "    }\n",
       "\n",
       "    .dataframe thead th {\n",
       "        text-align: right;\n",
       "    }\n",
       "</style>\n",
       "<table border=\"1\" class=\"dataframe\">\n",
       "  <thead>\n",
       "    <tr style=\"text-align: right;\">\n",
       "      <th></th>\n",
       "      <th>DATE OCC</th>\n",
       "      <th>TIME OCC</th>\n",
       "      <th>AREA</th>\n",
       "      <th>Crm Cd Desc</th>\n",
       "    </tr>\n",
       "  </thead>\n",
       "  <tbody>\n",
       "    <tr>\n",
       "      <th>178970</th>\n",
       "      <td>01/01/2020 12:00:00 AM</td>\n",
       "      <td>1405</td>\n",
       "      <td>11</td>\n",
       "      <td>THEFT OF IDENTITY</td>\n",
       "    </tr>\n",
       "    <tr>\n",
       "      <th>171091</th>\n",
       "      <td>01/01/2020 12:00:00 AM</td>\n",
       "      <td>1500</td>\n",
       "      <td>17</td>\n",
       "      <td>THEFT OF IDENTITY</td>\n",
       "    </tr>\n",
       "    <tr>\n",
       "      <th>69680</th>\n",
       "      <td>01/01/2020 12:00:00 AM</td>\n",
       "      <td>200</td>\n",
       "      <td>12</td>\n",
       "      <td>ROBBERY</td>\n",
       "    </tr>\n",
       "    <tr>\n",
       "      <th>69623</th>\n",
       "      <td>01/01/2020 12:00:00 AM</td>\n",
       "      <td>130</td>\n",
       "      <td>14</td>\n",
       "      <td>VANDALISM - MISDEAMEANOR ($399 OR UNDER)</td>\n",
       "    </tr>\n",
       "    <tr>\n",
       "      <th>69580</th>\n",
       "      <td>01/01/2020 12:00:00 AM</td>\n",
       "      <td>1200</td>\n",
       "      <td>13</td>\n",
       "      <td>SEX,UNLAWFUL(INC MUTUAL CONSENT, PENETRATION W...</td>\n",
       "    </tr>\n",
       "    <tr>\n",
       "      <th>...</th>\n",
       "      <td>...</td>\n",
       "      <td>...</td>\n",
       "      <td>...</td>\n",
       "      <td>...</td>\n",
       "    </tr>\n",
       "    <tr>\n",
       "      <th>768451</th>\n",
       "      <td>12/31/2023 12:00:00 AM</td>\n",
       "      <td>1200</td>\n",
       "      <td>3</td>\n",
       "      <td>THEFT-GRAND ($950.01 &amp; OVER)EXCPT,GUNS,FOWL,LI...</td>\n",
       "    </tr>\n",
       "    <tr>\n",
       "      <th>817165</th>\n",
       "      <td>12/31/2023 12:00:00 AM</td>\n",
       "      <td>700</td>\n",
       "      <td>4</td>\n",
       "      <td>THEFT PLAIN - PETTY ($950 &amp; UNDER)</td>\n",
       "    </tr>\n",
       "    <tr>\n",
       "      <th>872119</th>\n",
       "      <td>12/31/2023 12:00:00 AM</td>\n",
       "      <td>2325</td>\n",
       "      <td>13</td>\n",
       "      <td>VANDALISM - MISDEAMEANOR ($399 OR UNDER)</td>\n",
       "    </tr>\n",
       "    <tr>\n",
       "      <th>654410</th>\n",
       "      <td>12/31/2023 12:00:00 AM</td>\n",
       "      <td>2056</td>\n",
       "      <td>13</td>\n",
       "      <td>VANDALISM - FELONY ($400 &amp; OVER, ALL CHURCH VA...</td>\n",
       "    </tr>\n",
       "    <tr>\n",
       "      <th>767610</th>\n",
       "      <td>12/31/2023 12:00:00 AM</td>\n",
       "      <td>100</td>\n",
       "      <td>1</td>\n",
       "      <td>THEFT FROM MOTOR VEHICLE - PETTY ($950 &amp; UNDER)</td>\n",
       "    </tr>\n",
       "  </tbody>\n",
       "</table>\n",
       "<p>986500 rows × 4 columns</p>\n",
       "</div>"
      ],
      "text/plain": [
       "                      DATE OCC  TIME OCC  AREA  \\\n",
       "178970  01/01/2020 12:00:00 AM      1405    11   \n",
       "171091  01/01/2020 12:00:00 AM      1500    17   \n",
       "69680   01/01/2020 12:00:00 AM       200    12   \n",
       "69623   01/01/2020 12:00:00 AM       130    14   \n",
       "69580   01/01/2020 12:00:00 AM      1200    13   \n",
       "...                        ...       ...   ...   \n",
       "768451  12/31/2023 12:00:00 AM      1200     3   \n",
       "817165  12/31/2023 12:00:00 AM       700     4   \n",
       "872119  12/31/2023 12:00:00 AM      2325    13   \n",
       "654410  12/31/2023 12:00:00 AM      2056    13   \n",
       "767610  12/31/2023 12:00:00 AM       100     1   \n",
       "\n",
       "                                              Crm Cd Desc  \n",
       "178970                                  THEFT OF IDENTITY  \n",
       "171091                                  THEFT OF IDENTITY  \n",
       "69680                                             ROBBERY  \n",
       "69623            VANDALISM - MISDEAMEANOR ($399 OR UNDER)  \n",
       "69580   SEX,UNLAWFUL(INC MUTUAL CONSENT, PENETRATION W...  \n",
       "...                                                   ...  \n",
       "768451  THEFT-GRAND ($950.01 & OVER)EXCPT,GUNS,FOWL,LI...  \n",
       "817165                 THEFT PLAIN - PETTY ($950 & UNDER)  \n",
       "872119           VANDALISM - MISDEAMEANOR ($399 OR UNDER)  \n",
       "654410  VANDALISM - FELONY ($400 & OVER, ALL CHURCH VA...  \n",
       "767610    THEFT FROM MOTOR VEHICLE - PETTY ($950 & UNDER)  \n",
       "\n",
       "[986500 rows x 4 columns]"
      ]
     },
     "execution_count": 82,
     "metadata": {},
     "output_type": "execute_result"
    }
   ],
   "source": [
    "Crime_df.sort_values('DATE OCC')"
   ]
  },
  {
   "cell_type": "code",
   "execution_count": null,
   "id": "e095ab72-fc72-49a1-889d-81d74790c775",
   "metadata": {},
   "outputs": [],
   "source": [
    "## Sorted the crimes by Date"
   ]
  }
 ],
 "metadata": {
  "kernelspec": {
   "display_name": "Python 3 (ipykernel)",
   "language": "python",
   "name": "python3"
  },
  "language_info": {
   "codemirror_mode": {
    "name": "ipython",
    "version": 3
   },
   "file_extension": ".py",
   "mimetype": "text/x-python",
   "name": "python",
   "nbconvert_exporter": "python",
   "pygments_lexer": "ipython3",
   "version": "3.12.4"
  }
 },
 "nbformat": 4,
 "nbformat_minor": 5
}
