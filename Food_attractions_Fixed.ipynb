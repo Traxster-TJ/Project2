{
 "cells": [
  {
   "cell_type": "code",
   "execution_count": 308,
   "id": "da525d5a-ad18-42b9-b3eb-dc6ea8ab208e",
   "metadata": {},
   "outputs": [],
   "source": [
    "import pandas as pd"
   ]
  },
  {
   "cell_type": "code",
   "execution_count": 309,
   "id": "f511123d-9516-4668-bde1-8723fa1b2b05",
   "metadata": {},
   "outputs": [],
   "source": [
    "# read as CSV"
   ]
  },
  {
   "cell_type": "code",
   "execution_count": 310,
   "id": "1722ca9d-faba-44a0-93c9-ac5d85c22dd7",
   "metadata": {},
   "outputs": [],
   "source": [
    "df = pd.read_csv(r'C:\\Users\\WIN\\Downloads\\Food_Attractions.csv')"
   ]
  },
  {
   "cell_type": "code",
   "execution_count": 311,
   "id": "e77c1e3a-c6b8-4a77-a80a-42e1f64d924b",
   "metadata": {},
   "outputs": [
    {
     "data": {
      "text/html": [
       "<div>\n",
       "<style scoped>\n",
       "    .dataframe tbody tr th:only-of-type {\n",
       "        vertical-align: middle;\n",
       "    }\n",
       "\n",
       "    .dataframe tbody tr th {\n",
       "        vertical-align: top;\n",
       "    }\n",
       "\n",
       "    .dataframe thead th {\n",
       "        text-align: right;\n",
       "    }\n",
       "</style>\n",
       "<table border=\"1\" class=\"dataframe\">\n",
       "  <thead>\n",
       "    <tr style=\"text-align: right;\">\n",
       "      <th></th>\n",
       "      <th>Id</th>\n",
       "      <th>City and Country</th>\n",
       "      <th>Temperature</th>\n",
       "      <th>Date</th>\n",
       "      <th>Outlook</th>\n",
       "      <th>Attraction</th>\n",
       "      <th>Food</th>\n",
       "    </tr>\n",
       "  </thead>\n",
       "  <tbody>\n",
       "    <tr>\n",
       "      <th>0</th>\n",
       "      <td>1.0</td>\n",
       "      <td>New York City, United States</td>\n",
       "      <td>71F to 59F</td>\n",
       "      <td>10/3/2024</td>\n",
       "      <td>Cloudy</td>\n",
       "      <td>Statue of Liberty</td>\n",
       "      <td>Bagel</td>\n",
       "    </tr>\n",
       "    <tr>\n",
       "      <th>1</th>\n",
       "      <td>2.0</td>\n",
       "      <td>Sydney, Australia</td>\n",
       "      <td>22C to 18C</td>\n",
       "      <td>10/3/2023</td>\n",
       "      <td>Rainy</td>\n",
       "      <td>Sydney Opera House</td>\n",
       "      <td>Oyster</td>\n",
       "    </tr>\n",
       "    <tr>\n",
       "      <th>2</th>\n",
       "      <td>3.0</td>\n",
       "      <td>Chicago, United States</td>\n",
       "      <td>75F to 68F</td>\n",
       "      <td>10/5/2024</td>\n",
       "      <td>Sunny</td>\n",
       "      <td>Millennium Park</td>\n",
       "      <td>Deep Dish</td>\n",
       "    </tr>\n",
       "    <tr>\n",
       "      <th>3</th>\n",
       "      <td>4.0</td>\n",
       "      <td>New York City, United States</td>\n",
       "      <td>75F to 54F</td>\n",
       "      <td>10/5/2024</td>\n",
       "      <td>Sunny</td>\n",
       "      <td>Brooklyn Bridge</td>\n",
       "      <td>Pizza</td>\n",
       "    </tr>\n",
       "    <tr>\n",
       "      <th>4</th>\n",
       "      <td>5.0</td>\n",
       "      <td>São Paulo, Brazil</td>\n",
       "      <td>17C to 14C</td>\n",
       "      <td>10/4/2024</td>\n",
       "      <td>Rainy</td>\n",
       "      <td>Ibirapuera Park</td>\n",
       "      <td>Feijoada</td>\n",
       "    </tr>\n",
       "    <tr>\n",
       "      <th>5</th>\n",
       "      <td>6.0</td>\n",
       "      <td>Shanghai,</td>\n",
       "      <td>21C to 18C</td>\n",
       "      <td>8/7/2024</td>\n",
       "      <td>Rainy</td>\n",
       "      <td>Oriental Pearl TV Tower</td>\n",
       "      <td>Steamed Soup Dumplings</td>\n",
       "    </tr>\n",
       "    <tr>\n",
       "      <th>6</th>\n",
       "      <td>NaN</td>\n",
       "      <td>NaN</td>\n",
       "      <td>NaN</td>\n",
       "      <td>NaN</td>\n",
       "      <td>NaN</td>\n",
       "      <td>NaN</td>\n",
       "      <td>NaN</td>\n",
       "    </tr>\n",
       "    <tr>\n",
       "      <th>7</th>\n",
       "      <td>NaN</td>\n",
       "      <td>China</td>\n",
       "      <td>NaN</td>\n",
       "      <td>NaN</td>\n",
       "      <td>NaN</td>\n",
       "      <td>NaN</td>\n",
       "      <td>NaN</td>\n",
       "    </tr>\n",
       "  </tbody>\n",
       "</table>\n",
       "</div>"
      ],
      "text/plain": [
       "    Id              City and Country Temperature       Date Outlook  \\\n",
       "0  1.0  New York City, United States  71F to 59F  10/3/2024  Cloudy   \n",
       "1  2.0             Sydney, Australia  22C to 18C  10/3/2023   Rainy   \n",
       "2  3.0        Chicago, United States  75F to 68F  10/5/2024   Sunny   \n",
       "3  4.0  New York City, United States  75F to 54F  10/5/2024   Sunny   \n",
       "4  5.0             São Paulo, Brazil  17C to 14C  10/4/2024   Rainy   \n",
       "5  6.0                     Shanghai,  21C to 18C   8/7/2024   Rainy   \n",
       "6  NaN                           NaN         NaN        NaN     NaN   \n",
       "7  NaN                         China         NaN        NaN     NaN   \n",
       "\n",
       "                Attraction                    Food  \n",
       "0        Statue of Liberty                   Bagel  \n",
       "1       Sydney Opera House                  Oyster  \n",
       "2          Millennium Park               Deep Dish  \n",
       "3          Brooklyn Bridge                   Pizza  \n",
       "4          Ibirapuera Park                Feijoada  \n",
       "5  Oriental Pearl TV Tower  Steamed Soup Dumplings  \n",
       "6                      NaN                     NaN  \n",
       "7                      NaN                     NaN  "
      ]
     },
     "execution_count": 311,
     "metadata": {},
     "output_type": "execute_result"
    }
   ],
   "source": [
    "df"
   ]
  },
  {
   "cell_type": "code",
   "execution_count": 312,
   "id": "dba7141c-2f84-4114-b75b-53ca58a4fb55",
   "metadata": {},
   "outputs": [],
   "source": [
    "df.dropna(inplace=True)"
   ]
  },
  {
   "cell_type": "code",
   "execution_count": 313,
   "id": "ffcf1a40-ec83-47c4-99d2-b6545d5323db",
   "metadata": {},
   "outputs": [],
   "source": [
    "#Remove nan values"
   ]
  },
  {
   "cell_type": "code",
   "execution_count": 314,
   "id": "250d4952-d364-4e5d-8712-c51c56318f0f",
   "metadata": {},
   "outputs": [],
   "source": [
    "df.drop(df.columns[[0, 1]], axis=1, inplace=True)"
   ]
  },
  {
   "cell_type": "code",
   "execution_count": 315,
   "id": "e1f2c90b-bcc9-4b34-9dac-7e22f54ff011",
   "metadata": {},
   "outputs": [],
   "source": [
    "#remove id column"
   ]
  },
  {
   "cell_type": "code",
   "execution_count": 316,
   "id": "00f70a18-e8b5-4b61-b3ec-a875c0451ef8",
   "metadata": {},
   "outputs": [
    {
     "data": {
      "text/html": [
       "<div>\n",
       "<style scoped>\n",
       "    .dataframe tbody tr th:only-of-type {\n",
       "        vertical-align: middle;\n",
       "    }\n",
       "\n",
       "    .dataframe tbody tr th {\n",
       "        vertical-align: top;\n",
       "    }\n",
       "\n",
       "    .dataframe thead th {\n",
       "        text-align: right;\n",
       "    }\n",
       "</style>\n",
       "<table border=\"1\" class=\"dataframe\">\n",
       "  <thead>\n",
       "    <tr style=\"text-align: right;\">\n",
       "      <th></th>\n",
       "      <th>Temperature</th>\n",
       "      <th>Date</th>\n",
       "      <th>Outlook</th>\n",
       "      <th>Attraction</th>\n",
       "      <th>Food</th>\n",
       "    </tr>\n",
       "  </thead>\n",
       "  <tbody>\n",
       "    <tr>\n",
       "      <th>0</th>\n",
       "      <td>71F to 59F</td>\n",
       "      <td>10/3/2024</td>\n",
       "      <td>Cloudy</td>\n",
       "      <td>Statue of Liberty</td>\n",
       "      <td>Bagel</td>\n",
       "    </tr>\n",
       "    <tr>\n",
       "      <th>1</th>\n",
       "      <td>22C to 18C</td>\n",
       "      <td>10/3/2023</td>\n",
       "      <td>Rainy</td>\n",
       "      <td>Sydney Opera House</td>\n",
       "      <td>Oyster</td>\n",
       "    </tr>\n",
       "    <tr>\n",
       "      <th>2</th>\n",
       "      <td>75F to 68F</td>\n",
       "      <td>10/5/2024</td>\n",
       "      <td>Sunny</td>\n",
       "      <td>Millennium Park</td>\n",
       "      <td>Deep Dish</td>\n",
       "    </tr>\n",
       "    <tr>\n",
       "      <th>3</th>\n",
       "      <td>75F to 54F</td>\n",
       "      <td>10/5/2024</td>\n",
       "      <td>Sunny</td>\n",
       "      <td>Brooklyn Bridge</td>\n",
       "      <td>Pizza</td>\n",
       "    </tr>\n",
       "    <tr>\n",
       "      <th>4</th>\n",
       "      <td>17C to 14C</td>\n",
       "      <td>10/4/2024</td>\n",
       "      <td>Rainy</td>\n",
       "      <td>Ibirapuera Park</td>\n",
       "      <td>Feijoada</td>\n",
       "    </tr>\n",
       "    <tr>\n",
       "      <th>5</th>\n",
       "      <td>21C to 18C</td>\n",
       "      <td>8/7/2024</td>\n",
       "      <td>Rainy</td>\n",
       "      <td>Oriental Pearl TV Tower</td>\n",
       "      <td>Steamed Soup Dumplings</td>\n",
       "    </tr>\n",
       "  </tbody>\n",
       "</table>\n",
       "</div>"
      ],
      "text/plain": [
       "  Temperature       Date Outlook               Attraction  \\\n",
       "0  71F to 59F  10/3/2024  Cloudy        Statue of Liberty   \n",
       "1  22C to 18C  10/3/2023   Rainy       Sydney Opera House   \n",
       "2  75F to 68F  10/5/2024   Sunny          Millennium Park   \n",
       "3  75F to 54F  10/5/2024   Sunny          Brooklyn Bridge   \n",
       "4  17C to 14C  10/4/2024   Rainy          Ibirapuera Park   \n",
       "5  21C to 18C   8/7/2024   Rainy  Oriental Pearl TV Tower   \n",
       "\n",
       "                     Food  \n",
       "0                   Bagel  \n",
       "1                  Oyster  \n",
       "2               Deep Dish  \n",
       "3                   Pizza  \n",
       "4                Feijoada  \n",
       "5  Steamed Soup Dumplings  "
      ]
     },
     "execution_count": 316,
     "metadata": {},
     "output_type": "execute_result"
    }
   ],
   "source": [
    "df"
   ]
  },
  {
   "cell_type": "code",
   "execution_count": 317,
   "id": "8cd62e82-d279-4fe0-9080-56f48afce0d4",
   "metadata": {},
   "outputs": [],
   "source": [
    "#Split temps by min and max"
   ]
  },
  {
   "cell_type": "code",
   "execution_count": 337,
   "id": "2f46cdd9-8c6b-4e42-b753-ba99a8f6183f",
   "metadata": {},
   "outputs": [
    {
     "data": {
      "text/plain": [
       "0    [71F ,  59F]\n",
       "1    [22C ,  18C]\n",
       "2    [75F ,  68F]\n",
       "3    [75F ,  54F]\n",
       "4    [17C ,  14C]\n",
       "5    [21C ,  18C]\n",
       "Name: Temperature, dtype: object"
      ]
     },
     "execution_count": 337,
     "metadata": {},
     "output_type": "execute_result"
    }
   ],
   "source": [
    "df['Temperature'].str.split(pat = 'to')"
   ]
  },
  {
   "cell_type": "code",
   "execution_count": 339,
   "id": "18726755-fd01-49be-a5d1-98a027f65018",
   "metadata": {},
   "outputs": [],
   "source": [
    "df['Max Temp'] = df['Temperature'].str.split(pat = 'to').str[0]"
   ]
  },
  {
   "cell_type": "code",
   "execution_count": 341,
   "id": "650a13f2-0ac9-489d-a696-02958e5d8e42",
   "metadata": {},
   "outputs": [],
   "source": [
    "df['Min Temp'] = df['Temperature'].str.split(pat = 'to').str[1]"
   ]
  },
  {
   "cell_type": "code",
   "execution_count": 343,
   "id": "8be29f17-4162-4e3e-9e7f-37e872143c77",
   "metadata": {},
   "outputs": [
    {
     "data": {
      "text/html": [
       "<div>\n",
       "<style scoped>\n",
       "    .dataframe tbody tr th:only-of-type {\n",
       "        vertical-align: middle;\n",
       "    }\n",
       "\n",
       "    .dataframe tbody tr th {\n",
       "        vertical-align: top;\n",
       "    }\n",
       "\n",
       "    .dataframe thead th {\n",
       "        text-align: right;\n",
       "    }\n",
       "</style>\n",
       "<table border=\"1\" class=\"dataframe\">\n",
       "  <thead>\n",
       "    <tr style=\"text-align: right;\">\n",
       "      <th></th>\n",
       "      <th>Temperature</th>\n",
       "      <th>Date</th>\n",
       "      <th>Outlook</th>\n",
       "      <th>Attraction</th>\n",
       "      <th>Food</th>\n",
       "      <th>Max Temp</th>\n",
       "      <th>Min Temp</th>\n",
       "    </tr>\n",
       "  </thead>\n",
       "  <tbody>\n",
       "    <tr>\n",
       "      <th>0</th>\n",
       "      <td>71F to 59F</td>\n",
       "      <td>10/3/2024</td>\n",
       "      <td>Cloudy</td>\n",
       "      <td>Statue of Liberty</td>\n",
       "      <td>Bagel</td>\n",
       "      <td>71F</td>\n",
       "      <td>59F</td>\n",
       "    </tr>\n",
       "    <tr>\n",
       "      <th>1</th>\n",
       "      <td>22C to 18C</td>\n",
       "      <td>10/3/2023</td>\n",
       "      <td>Rainy</td>\n",
       "      <td>Sydney Opera House</td>\n",
       "      <td>Oyster</td>\n",
       "      <td>22C</td>\n",
       "      <td>18C</td>\n",
       "    </tr>\n",
       "    <tr>\n",
       "      <th>2</th>\n",
       "      <td>75F to 68F</td>\n",
       "      <td>10/5/2024</td>\n",
       "      <td>Sunny</td>\n",
       "      <td>Millennium Park</td>\n",
       "      <td>Deep Dish</td>\n",
       "      <td>75F</td>\n",
       "      <td>68F</td>\n",
       "    </tr>\n",
       "    <tr>\n",
       "      <th>3</th>\n",
       "      <td>75F to 54F</td>\n",
       "      <td>10/5/2024</td>\n",
       "      <td>Sunny</td>\n",
       "      <td>Brooklyn Bridge</td>\n",
       "      <td>Pizza</td>\n",
       "      <td>75F</td>\n",
       "      <td>54F</td>\n",
       "    </tr>\n",
       "    <tr>\n",
       "      <th>4</th>\n",
       "      <td>17C to 14C</td>\n",
       "      <td>10/4/2024</td>\n",
       "      <td>Rainy</td>\n",
       "      <td>Ibirapuera Park</td>\n",
       "      <td>Feijoada</td>\n",
       "      <td>17C</td>\n",
       "      <td>14C</td>\n",
       "    </tr>\n",
       "    <tr>\n",
       "      <th>5</th>\n",
       "      <td>21C to 18C</td>\n",
       "      <td>8/7/2024</td>\n",
       "      <td>Rainy</td>\n",
       "      <td>Oriental Pearl TV Tower</td>\n",
       "      <td>Steamed Soup Dumplings</td>\n",
       "      <td>21C</td>\n",
       "      <td>18C</td>\n",
       "    </tr>\n",
       "  </tbody>\n",
       "</table>\n",
       "</div>"
      ],
      "text/plain": [
       "  Temperature       Date Outlook               Attraction  \\\n",
       "0  71F to 59F  10/3/2024  Cloudy        Statue of Liberty   \n",
       "1  22C to 18C  10/3/2023   Rainy       Sydney Opera House   \n",
       "2  75F to 68F  10/5/2024   Sunny          Millennium Park   \n",
       "3  75F to 54F  10/5/2024   Sunny          Brooklyn Bridge   \n",
       "4  17C to 14C  10/4/2024   Rainy          Ibirapuera Park   \n",
       "5  21C to 18C   8/7/2024   Rainy  Oriental Pearl TV Tower   \n",
       "\n",
       "                     Food Max Temp Min Temp  \n",
       "0                   Bagel     71F       59F  \n",
       "1                  Oyster     22C       18C  \n",
       "2               Deep Dish     75F       68F  \n",
       "3                   Pizza     75F       54F  \n",
       "4                Feijoada     17C       14C  \n",
       "5  Steamed Soup Dumplings     21C       18C  "
      ]
     },
     "execution_count": 343,
     "metadata": {},
     "output_type": "execute_result"
    }
   ],
   "source": [
    "df"
   ]
  },
  {
   "cell_type": "code",
   "execution_count": 345,
   "id": "b9c50f2a-9c01-4c65-b4a5-656468e7b961",
   "metadata": {},
   "outputs": [],
   "source": [
    "#Drop Temperature column"
   ]
  },
  {
   "cell_type": "code",
   "execution_count": 347,
   "id": "23b107e9-129d-49c2-99a4-749c1031a149",
   "metadata": {},
   "outputs": [
    {
     "ename": "SyntaxError",
     "evalue": "invalid syntax. Maybe you meant '==' or ':=' instead of '='? (2928000828.py, line 1)",
     "output_type": "error",
     "traceback": [
      "\u001b[1;36m  Cell \u001b[1;32mIn[347], line 1\u001b[1;36m\u001b[0m\n\u001b[1;33m    df.drop(['Temperature']), axis = 1\u001b[0m\n\u001b[1;37m                              ^\u001b[0m\n\u001b[1;31mSyntaxError\u001b[0m\u001b[1;31m:\u001b[0m invalid syntax. Maybe you meant '==' or ':=' instead of '='?\n"
     ]
    }
   ],
   "source": [
    "df.drop(['Temperature']), axis = 1"
   ]
  },
  {
   "cell_type": "code",
   "execution_count": null,
   "id": "c406c051-fc1d-4597-82f7-2e9138c13d30",
   "metadata": {},
   "outputs": [],
   "source": []
  }
 ],
 "metadata": {
  "kernelspec": {
   "display_name": "Python 3 (ipykernel)",
   "language": "python",
   "name": "python3"
  },
  "language_info": {
   "codemirror_mode": {
    "name": "ipython",
    "version": 3
   },
   "file_extension": ".py",
   "mimetype": "text/x-python",
   "name": "python",
   "nbconvert_exporter": "python",
   "pygments_lexer": "ipython3",
   "version": "3.12.4"
  }
 },
 "nbformat": 4,
 "nbformat_minor": 5
}
