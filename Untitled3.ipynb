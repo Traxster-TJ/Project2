{
 "cells": [
  {
   "cell_type": "code",
   "execution_count": 200,
   "id": "412bd864-f227-4393-87f0-a6b563616e4a",
   "metadata": {},
   "outputs": [],
   "source": [
    "import pandas as pd"
   ]
  },
  {
   "cell_type": "code",
   "execution_count": 201,
   "id": "47c15027-493e-40f6-8560-2e7fb8cf5d99",
   "metadata": {},
   "outputs": [],
   "source": [
    "#Import the CSV"
   ]
  },
  {
   "cell_type": "code",
   "execution_count": 202,
   "id": "c999bdd4-edc3-44ca-9642-cf089cdea12e",
   "metadata": {},
   "outputs": [],
   "source": [
    "df = pd.read_csv(r'C:\\Users\\WIN\\Downloads\\Park_Events.csv')"
   ]
  },
  {
   "cell_type": "code",
   "execution_count": 203,
   "id": "df10bb33-a787-4936-a3a5-779dded6da67",
   "metadata": {},
   "outputs": [
    {
     "data": {
      "text/html": [
       "<div>\n",
       "<style scoped>\n",
       "    .dataframe tbody tr th:only-of-type {\n",
       "        vertical-align: middle;\n",
       "    }\n",
       "\n",
       "    .dataframe tbody tr th {\n",
       "        vertical-align: top;\n",
       "    }\n",
       "\n",
       "    .dataframe thead th {\n",
       "        text-align: right;\n",
       "    }\n",
       "</style>\n",
       "<table border=\"1\" class=\"dataframe\">\n",
       "  <thead>\n",
       "    <tr style=\"text-align: right;\">\n",
       "      <th></th>\n",
       "      <th>Unit</th>\n",
       "      <th>Group Name/ Partner</th>\n",
       "      <th>Date-time</th>\n",
       "      <th>borough</th>\n",
       "      <th>location</th>\n",
       "      <th>event</th>\n",
       "      <th>event type</th>\n",
       "    </tr>\n",
       "  </thead>\n",
       "  <tbody>\n",
       "    <tr>\n",
       "      <th>0</th>\n",
       "      <td>Recreation</td>\n",
       "      <td>NYC_Events</td>\n",
       "      <td>4/12/2018 6pm</td>\n",
       "      <td>Manhattan</td>\n",
       "      <td>Rec center</td>\n",
       "      <td>Bowling</td>\n",
       "      <td>Sport</td>\n",
       "    </tr>\n",
       "    <tr>\n",
       "      <th>1</th>\n",
       "      <td>Recreation</td>\n",
       "      <td>NYC_Events</td>\n",
       "      <td>1/20/2018 4pm</td>\n",
       "      <td>Manhattan</td>\n",
       "      <td>Rec center</td>\n",
       "      <td>Bowling</td>\n",
       "      <td>Sport</td>\n",
       "    </tr>\n",
       "    <tr>\n",
       "      <th>2</th>\n",
       "      <td>Recreation</td>\n",
       "      <td>Museum</td>\n",
       "      <td>3/15/2018 3pm</td>\n",
       "      <td>Bronx</td>\n",
       "      <td>Columbus park</td>\n",
       "      <td>Antiques</td>\n",
       "      <td>Walk</td>\n",
       "    </tr>\n",
       "    <tr>\n",
       "      <th>3</th>\n",
       "      <td>Recreation</td>\n",
       "      <td>NYC_Events</td>\n",
       "      <td>4/15/2018 7pm</td>\n",
       "      <td>Brooklyn</td>\n",
       "      <td>Prospect Park</td>\n",
       "      <td>Flag toss</td>\n",
       "      <td>Sport</td>\n",
       "    </tr>\n",
       "    <tr>\n",
       "      <th>4</th>\n",
       "      <td>Recreation</td>\n",
       "      <td>Gallery</td>\n",
       "      <td>4/23/2018 5pm</td>\n",
       "      <td>Manhattan</td>\n",
       "      <td>Noma</td>\n",
       "      <td>Art</td>\n",
       "      <td>Walk</td>\n",
       "    </tr>\n",
       "  </tbody>\n",
       "</table>\n",
       "</div>"
      ],
      "text/plain": [
       "         Unit Group Name/ Partner      Date-time    borough       location  \\\n",
       "0  Recreation          NYC_Events  4/12/2018 6pm  Manhattan     Rec center   \n",
       "1  Recreation          NYC_Events  1/20/2018 4pm  Manhattan     Rec center   \n",
       "2  Recreation              Museum  3/15/2018 3pm      Bronx  Columbus park   \n",
       "3  Recreation          NYC_Events  4/15/2018 7pm   Brooklyn  Prospect Park   \n",
       "4  Recreation             Gallery  4/23/2018 5pm  Manhattan           Noma   \n",
       "\n",
       "       event event type  \n",
       "0    Bowling      Sport  \n",
       "1    Bowling      Sport  \n",
       "2   Antiques       Walk  \n",
       "3  Flag toss      Sport  \n",
       "4        Art       Walk  "
      ]
     },
     "execution_count": 203,
     "metadata": {},
     "output_type": "execute_result"
    }
   ],
   "source": [
    "df"
   ]
  },
  {
   "cell_type": "code",
   "execution_count": 204,
   "id": "347d5fac-88e6-4a96-83f0-2ca6d1dff407",
   "metadata": {},
   "outputs": [
    {
     "data": {
      "text/html": [
       "<div>\n",
       "<style scoped>\n",
       "    .dataframe tbody tr th:only-of-type {\n",
       "        vertical-align: middle;\n",
       "    }\n",
       "\n",
       "    .dataframe tbody tr th {\n",
       "        vertical-align: top;\n",
       "    }\n",
       "\n",
       "    .dataframe thead th {\n",
       "        text-align: right;\n",
       "    }\n",
       "</style>\n",
       "<table border=\"1\" class=\"dataframe\">\n",
       "  <thead>\n",
       "    <tr style=\"text-align: right;\">\n",
       "      <th></th>\n",
       "      <th>Unit</th>\n",
       "      <th>Group Name/ Partner</th>\n",
       "      <th>Date-time</th>\n",
       "      <th>borough</th>\n",
       "      <th>location</th>\n",
       "      <th>event</th>\n",
       "      <th>event type</th>\n",
       "    </tr>\n",
       "  </thead>\n",
       "  <tbody>\n",
       "    <tr>\n",
       "      <th>0</th>\n",
       "      <td>Recreation</td>\n",
       "      <td>NYC_Events</td>\n",
       "      <td>4/12/2018 6pm</td>\n",
       "      <td>Manhattan</td>\n",
       "      <td>Rec center</td>\n",
       "      <td>Bowling</td>\n",
       "      <td>Sport</td>\n",
       "    </tr>\n",
       "    <tr>\n",
       "      <th>1</th>\n",
       "      <td>Recreation</td>\n",
       "      <td>NYC_Events</td>\n",
       "      <td>1/20/2018 4pm</td>\n",
       "      <td>Manhattan</td>\n",
       "      <td>Rec center</td>\n",
       "      <td>Bowling</td>\n",
       "      <td>Sport</td>\n",
       "    </tr>\n",
       "    <tr>\n",
       "      <th>2</th>\n",
       "      <td>Recreation</td>\n",
       "      <td>Museum</td>\n",
       "      <td>3/15/2018 3pm</td>\n",
       "      <td>Bronx</td>\n",
       "      <td>Columbus park</td>\n",
       "      <td>Antiques</td>\n",
       "      <td>Walk</td>\n",
       "    </tr>\n",
       "    <tr>\n",
       "      <th>3</th>\n",
       "      <td>Recreation</td>\n",
       "      <td>NYC_Events</td>\n",
       "      <td>4/15/2018 7pm</td>\n",
       "      <td>Brooklyn</td>\n",
       "      <td>Prospect Park</td>\n",
       "      <td>Flag toss</td>\n",
       "      <td>Sport</td>\n",
       "    </tr>\n",
       "    <tr>\n",
       "      <th>4</th>\n",
       "      <td>Recreation</td>\n",
       "      <td>Gallery</td>\n",
       "      <td>4/23/2018 5pm</td>\n",
       "      <td>Manhattan</td>\n",
       "      <td>Noma</td>\n",
       "      <td>Art</td>\n",
       "      <td>Walk</td>\n",
       "    </tr>\n",
       "  </tbody>\n",
       "</table>\n",
       "</div>"
      ],
      "text/plain": [
       "         Unit Group Name/ Partner      Date-time    borough       location  \\\n",
       "0  Recreation          NYC_Events  4/12/2018 6pm  Manhattan     Rec center   \n",
       "1  Recreation          NYC_Events  1/20/2018 4pm  Manhattan     Rec center   \n",
       "2  Recreation              Museum  3/15/2018 3pm      Bronx  Columbus park   \n",
       "3  Recreation          NYC_Events  4/15/2018 7pm   Brooklyn  Prospect Park   \n",
       "4  Recreation             Gallery  4/23/2018 5pm  Manhattan           Noma   \n",
       "\n",
       "       event event type  \n",
       "0    Bowling      Sport  \n",
       "1    Bowling      Sport  \n",
       "2   Antiques       Walk  \n",
       "3  Flag toss      Sport  \n",
       "4        Art       Walk  "
      ]
     },
     "execution_count": 204,
     "metadata": {},
     "output_type": "execute_result"
    }
   ],
   "source": [
    "df.dropna()"
   ]
  },
  {
   "cell_type": "code",
   "execution_count": 205,
   "id": "95e2d0ad-165d-447a-84b5-b5b644ebe630",
   "metadata": {},
   "outputs": [],
   "source": [
    "#Drop Nan values"
   ]
  },
  {
   "cell_type": "code",
   "execution_count": 206,
   "id": "32bbd13e-f3a1-428b-97ed-584787f312da",
   "metadata": {},
   "outputs": [],
   "source": [
    "df = df.rename(columns = {'Group Name/ Partner': 'Affiliate'})"
   ]
  },
  {
   "cell_type": "code",
   "execution_count": 207,
   "id": "4bf406a6-47ad-4c2b-b37e-d6a370e689b5",
   "metadata": {},
   "outputs": [],
   "source": [
    "#Rename columns"
   ]
  },
  {
   "cell_type": "code",
   "execution_count": 208,
   "id": "672c9da8-ea09-4c8c-b3da-8ff80e4594ed",
   "metadata": {},
   "outputs": [
    {
     "data": {
      "text/html": [
       "<div>\n",
       "<style scoped>\n",
       "    .dataframe tbody tr th:only-of-type {\n",
       "        vertical-align: middle;\n",
       "    }\n",
       "\n",
       "    .dataframe tbody tr th {\n",
       "        vertical-align: top;\n",
       "    }\n",
       "\n",
       "    .dataframe thead th {\n",
       "        text-align: right;\n",
       "    }\n",
       "</style>\n",
       "<table border=\"1\" class=\"dataframe\">\n",
       "  <thead>\n",
       "    <tr style=\"text-align: right;\">\n",
       "      <th></th>\n",
       "      <th>Unit</th>\n",
       "      <th>Affiliate</th>\n",
       "      <th>Date-time</th>\n",
       "      <th>borough</th>\n",
       "      <th>location</th>\n",
       "      <th>event</th>\n",
       "      <th>event type</th>\n",
       "    </tr>\n",
       "  </thead>\n",
       "  <tbody>\n",
       "    <tr>\n",
       "      <th>0</th>\n",
       "      <td>Recreation</td>\n",
       "      <td>NYC_Events</td>\n",
       "      <td>4/12/2018 6pm</td>\n",
       "      <td>Manhattan</td>\n",
       "      <td>Rec center</td>\n",
       "      <td>Bowling</td>\n",
       "      <td>Sport</td>\n",
       "    </tr>\n",
       "    <tr>\n",
       "      <th>1</th>\n",
       "      <td>Recreation</td>\n",
       "      <td>NYC_Events</td>\n",
       "      <td>1/20/2018 4pm</td>\n",
       "      <td>Manhattan</td>\n",
       "      <td>Rec center</td>\n",
       "      <td>Bowling</td>\n",
       "      <td>Sport</td>\n",
       "    </tr>\n",
       "    <tr>\n",
       "      <th>2</th>\n",
       "      <td>Recreation</td>\n",
       "      <td>Museum</td>\n",
       "      <td>3/15/2018 3pm</td>\n",
       "      <td>Bronx</td>\n",
       "      <td>Columbus park</td>\n",
       "      <td>Antiques</td>\n",
       "      <td>Walk</td>\n",
       "    </tr>\n",
       "    <tr>\n",
       "      <th>3</th>\n",
       "      <td>Recreation</td>\n",
       "      <td>NYC_Events</td>\n",
       "      <td>4/15/2018 7pm</td>\n",
       "      <td>Brooklyn</td>\n",
       "      <td>Prospect Park</td>\n",
       "      <td>Flag toss</td>\n",
       "      <td>Sport</td>\n",
       "    </tr>\n",
       "    <tr>\n",
       "      <th>4</th>\n",
       "      <td>Recreation</td>\n",
       "      <td>Gallery</td>\n",
       "      <td>4/23/2018 5pm</td>\n",
       "      <td>Manhattan</td>\n",
       "      <td>Noma</td>\n",
       "      <td>Art</td>\n",
       "      <td>Walk</td>\n",
       "    </tr>\n",
       "  </tbody>\n",
       "</table>\n",
       "</div>"
      ],
      "text/plain": [
       "         Unit   Affiliate      Date-time    borough       location      event  \\\n",
       "0  Recreation  NYC_Events  4/12/2018 6pm  Manhattan     Rec center    Bowling   \n",
       "1  Recreation  NYC_Events  1/20/2018 4pm  Manhattan     Rec center    Bowling   \n",
       "2  Recreation      Museum  3/15/2018 3pm      Bronx  Columbus park   Antiques   \n",
       "3  Recreation  NYC_Events  4/15/2018 7pm   Brooklyn  Prospect Park  Flag toss   \n",
       "4  Recreation     Gallery  4/23/2018 5pm  Manhattan           Noma        Art   \n",
       "\n",
       "  event type  \n",
       "0      Sport  \n",
       "1      Sport  \n",
       "2       Walk  \n",
       "3      Sport  \n",
       "4       Walk  "
      ]
     },
     "execution_count": 208,
     "metadata": {},
     "output_type": "execute_result"
    }
   ],
   "source": [
    "df"
   ]
  },
  {
   "cell_type": "code",
   "execution_count": 209,
   "id": "a4f6c251-3d1d-4c5c-8fb2-b3f3055f09f3",
   "metadata": {},
   "outputs": [],
   "source": [
    "#split  Date and time\n"
   ]
  },
  {
   "cell_type": "code",
   "execution_count": 223,
   "id": "c606228f-8b43-4ef7-a171-bc96772ae267",
   "metadata": {},
   "outputs": [
    {
     "data": {
      "text/plain": [
       "0    [4/12/2018 6pm]\n",
       "1    [1/20/2018 4pm]\n",
       "2    [3/15/2018 3pm]\n",
       "3    [4/15/2018 7pm]\n",
       "4    [4/23/2018 5pm]\n",
       "Name: Date-time, dtype: object"
      ]
     },
     "execution_count": 223,
     "metadata": {},
     "output_type": "execute_result"
    }
   ],
   "source": [
    "df['Date-time'].str.split(pat = '-')"
   ]
  },
  {
   "cell_type": "code",
   "execution_count": 233,
   "id": "a58437d8-e3a3-465e-9daa-b5ff25d2273b",
   "metadata": {},
   "outputs": [
    {
     "data": {
      "text/plain": [
       "0    4/12/2018 6pm\n",
       "1    1/20/2018 4pm\n",
       "2    3/15/2018 3pm\n",
       "3    4/15/2018 7pm\n",
       "4    4/23/2018 5pm\n",
       "Name: Date-time, dtype: object"
      ]
     },
     "execution_count": 233,
     "metadata": {},
     "output_type": "execute_result"
    }
   ],
   "source": [
    "df['Date-time'].str.split(pat = '-').str[0]"
   ]
  },
  {
   "cell_type": "code",
   "execution_count": 225,
   "id": "1e33c8aa-4b42-4f42-b975-434528a43ba9",
   "metadata": {},
   "outputs": [],
   "source": [
    "df['Date'] = df['Date-time'].str.split(pat = '-').str[0]"
   ]
  },
  {
   "cell_type": "code",
   "execution_count": 227,
   "id": "7b4841f8-f6b9-48d1-8c5e-8b3b8b906d8f",
   "metadata": {},
   "outputs": [],
   "source": [
    "df['time'] = df['Date-time'].str.split(pat = '-').str[1]"
   ]
  }
 ],
 "metadata": {
  "kernelspec": {
   "display_name": "Python 3 (ipykernel)",
   "language": "python",
   "name": "python3"
  },
  "language_info": {
   "codemirror_mode": {
    "name": "ipython",
    "version": 3
   },
   "file_extension": ".py",
   "mimetype": "text/x-python",
   "name": "python",
   "nbconvert_exporter": "python",
   "pygments_lexer": "ipython3",
   "version": "3.12.4"
  }
 },
 "nbformat": 4,
 "nbformat_minor": 5
}
